{
 "cells": [
  {
   "cell_type": "markdown",
   "id": "905a55a9-1be7-4bbd-9aaf-45a4eceae634",
   "metadata": {},
   "source": [
    "1) write a python program to identify given number is a prime or not\n",
    "2) write a python program for fibonaci series\n",
    "3) write a python program to identify factoral of a given number\n",
    "4) write a python program to print multiplication table of given number\n",
    "5) write a python program to count total no of digits in a number\n",
    "6) write a python program to print list in a reverse using loop\n",
    "7) write a python program to display from -10 to -1 using loop"
   ]
  },
  {
   "cell_type": "markdown",
   "id": "f13438a0-8c9c-401a-8ef5-53105a80bbb4",
   "metadata": {},
   "source": [
    "7) Write a python Program to display -10 to -1 using loop"
   ]
  },
  {
   "cell_type": "code",
   "execution_count": 27,
   "id": "f23e8640-422d-49ff-822c-e2c6a59d0c12",
   "metadata": {},
   "outputs": [
    {
     "name": "stdout",
     "output_type": "stream",
     "text": [
      "-10\n",
      "-9\n",
      "-8\n",
      "-7\n",
      "-6\n",
      "-5\n",
      "-4\n",
      "-3\n",
      "-2\n",
      "-1\n"
     ]
    }
   ],
   "source": [
    "i=-10\n",
    "while i<= -1:\n",
    "    print(i)\n",
    "    i-=-1"
   ]
  },
  {
   "cell_type": "code",
   "execution_count": 29,
   "id": "42583110-b060-4724-8d9e-6d8186fd7cbd",
   "metadata": {},
   "outputs": [
    {
     "name": "stdout",
     "output_type": "stream",
     "text": [
      "-10\n",
      "-9\n",
      "-8\n",
      "-7\n",
      "-6\n",
      "-5\n",
      "-4\n",
      "-3\n",
      "-2\n",
      "-1\n"
     ]
    }
   ],
   "source": [
    "for i in range(-10,0):\n",
    "    print(i)"
   ]
  },
  {
   "cell_type": "markdown",
   "id": "5a2f565b-9f37-4f47-9202-a9a3cd8e5662",
   "metadata": {},
   "source": [
    "6) Write a python program to print list in reverse using loop"
   ]
  },
  {
   "cell_type": "code",
   "execution_count": 32,
   "id": "ef217c2b-f8a7-449a-b0ec-87654f210cef",
   "metadata": {},
   "outputs": [
    {
     "name": "stdout",
     "output_type": "stream",
     "text": [
      "767\n",
      "5\n",
      "1\n",
      "43\n",
      "3\n",
      "1\n"
     ]
    }
   ],
   "source": [
    "list = [1,3,43,1,5,767]\n",
    "n=len(list)-1\n",
    "while n>=0:\n",
    "    print(list[n])\n",
    "    n-=1"
   ]
  },
  {
   "cell_type": "code",
   "execution_count": 34,
   "id": "322e56fd-b609-48ec-a7b3-641899bbf6dd",
   "metadata": {},
   "outputs": [
    {
     "name": "stdout",
     "output_type": "stream",
     "text": [
      "767\n",
      "5\n",
      "1\n",
      "43\n",
      "3\n",
      "1\n"
     ]
    }
   ],
   "source": [
    "list = [1,3,43,1,5,767]\n",
    "n=len(list)-1\n",
    "for i in range(n,-1,-1):\n",
    "    print(list[i])"
   ]
  },
  {
   "cell_type": "markdown",
   "id": "35a3e4af-b954-473b-b7e0-f3efbbb4fcfe",
   "metadata": {},
   "source": [
    "5) write a python program to count total no of digits in a number"
   ]
  },
  {
   "cell_type": "code",
   "execution_count": 48,
   "id": "9ada9399-c6b5-4691-a1cb-71b4e75ae179",
   "metadata": {},
   "outputs": [
    {
     "name": "stdin",
     "output_type": "stream",
     "text": [
      "Enter a number 755675\n"
     ]
    },
    {
     "name": "stdout",
     "output_type": "stream",
     "text": [
      "1\n",
      "2\n",
      "3\n",
      "4\n",
      "5\n",
      "6\n"
     ]
    }
   ],
   "source": [
    "number=int(input(\"Enter a number\"))\n",
    "count=0\n",
    "while number != 0:\n",
    "    number=number//10\n",
    "    count+=1\n",
    "    print(count)"
   ]
  },
  {
   "cell_type": "code",
   "execution_count": 60,
   "id": "19651cd2-75ef-4ab9-96fd-44c55879d677",
   "metadata": {},
   "outputs": [
    {
     "name": "stdin",
     "output_type": "stream",
     "text": [
      "Enter a number: 34556\n"
     ]
    },
    {
     "name": "stdout",
     "output_type": "stream",
     "text": [
      "1\n",
      "2\n",
      "3\n",
      "4\n",
      "5\n"
     ]
    }
   ],
   "source": [
    "number=input(\"Enter a number:\")\n",
    "count=0\n",
    "for i in number:\n",
    "    count+=1\n",
    "    print(count)"
   ]
  },
  {
   "cell_type": "markdown",
   "id": "77448b8b-ba8d-41b6-87e2-26029b7dad76",
   "metadata": {},
   "source": [
    "4) write a python program to print multiplication table of given number"
   ]
  },
  {
   "cell_type": "code",
   "execution_count": 75,
   "id": "4ea0d998-80ca-471f-a2b4-75097679c4b3",
   "metadata": {},
   "outputs": [
    {
     "name": "stdin",
     "output_type": "stream",
     "text": [
      "Enter the number:  8\n"
     ]
    },
    {
     "name": "stdout",
     "output_type": "stream",
     "text": [
      "8*1=8\n",
      "8*2=16\n",
      "8*3=24\n",
      "8*4=32\n",
      "8*5=40\n",
      "8*6=48\n",
      "8*7=56\n",
      "8*8=64\n",
      "8*9=72\n",
      "8*10=80\n"
     ]
    }
   ],
   "source": [
    "number=int(input(\"Enter the number: \"))\n",
    "for i in range(1,11):\n",
    "    a=number*i\n",
    "    print(f\"{number}*{i}={a}\")"
   ]
  },
  {
   "cell_type": "code",
   "execution_count": 81,
   "id": "a1883d1c-5006-467b-9965-fbc0490aee79",
   "metadata": {},
   "outputs": [
    {
     "name": "stdin",
     "output_type": "stream",
     "text": [
      "Enter the number: 7\n"
     ]
    },
    {
     "name": "stdout",
     "output_type": "stream",
     "text": [
      "7*1=7\n",
      "7*2=14\n",
      "7*3=21\n",
      "7*4=28\n",
      "7*5=35\n",
      "7*6=42\n",
      "7*7=49\n",
      "7*8=56\n",
      "7*9=63\n",
      "7*10=70\n"
     ]
    }
   ],
   "source": [
    "number=int(input(\"Enter the number:\"))\n",
    "i=1\n",
    "while i<=10:\n",
    "    a=number*i\n",
    "    print(f\"{number}*{i}={a}\")\n",
    "    i=i+1"
   ]
  },
  {
   "cell_type": "markdown",
   "id": "2561c7ec-648a-49d9-8f5b-32e50210a871",
   "metadata": {},
   "source": [
    "3) write a python program to identify factoral of a given number"
   ]
  },
  {
   "cell_type": "code",
   "execution_count": 85,
   "id": "fff0fac7-a28f-48a2-89fc-5c24d1fda28f",
   "metadata": {},
   "outputs": [
    {
     "name": "stdin",
     "output_type": "stream",
     "text": [
      "Enter the number:  5\n"
     ]
    },
    {
     "name": "stdout",
     "output_type": "stream",
     "text": [
      "The factorial of 5 is 1\n",
      "The factorial of 5 is 2\n",
      "The factorial of 5 is 6\n",
      "The factorial of 5 is 24\n",
      "The factorial of 5 is 120\n"
     ]
    }
   ],
   "source": [
    "n=int(input(\"Enter the number: \"))\n",
    "result=1\n",
    "for i in range(1,n+1):\n",
    "    result=result*i\n",
    "    print(f\"The factorial of {n} is {result}\")"
   ]
  },
  {
   "cell_type": "code",
   "execution_count": 89,
   "id": "8c6fe4ab-2bb8-4200-b0c0-32a2a0565505",
   "metadata": {},
   "outputs": [
    {
     "name": "stdin",
     "output_type": "stream",
     "text": [
      "Enter a number 8\n"
     ]
    },
    {
     "name": "stdout",
     "output_type": "stream",
     "text": [
      "The factorial of 8 is 1\n",
      "The factorial of 8 is 2\n",
      "The factorial of 8 is 6\n",
      "The factorial of 8 is 24\n",
      "The factorial of 8 is 120\n",
      "The factorial of 8 is 720\n",
      "The factorial of 8 is 5040\n",
      "The factorial of 8 is 40320\n"
     ]
    }
   ],
   "source": [
    "n=int(input(\"Enter a number\"))\n",
    "result=1\n",
    "i=1\n",
    "while i<=n:\n",
    "    result=result*i\n",
    "    i+=1\n",
    "    print(f\"The factorial of {n} is {result}\")"
   ]
  },
  {
   "cell_type": "markdown",
   "id": "58b05c34-7506-4b0c-9bf1-15916a2ed380",
   "metadata": {},
   "source": [
    "2) write a python program for fibonaci series"
   ]
  },
  {
   "cell_type": "code",
   "execution_count": 94,
   "id": "af497486-1200-413e-8016-7ea1c50f40e9",
   "metadata": {},
   "outputs": [
    {
     "name": "stdin",
     "output_type": "stream",
     "text": [
      "Enter the terms: 9\n"
     ]
    },
    {
     "name": "stdout",
     "output_type": "stream",
     "text": [
      "0\n",
      "1\n",
      "2\n",
      "4\n",
      "8\n",
      "16\n",
      "32\n",
      "64\n",
      "128\n"
     ]
    }
   ],
   "source": [
    "n=int(input(\"Enter the terms:\"))\n",
    "a=0\n",
    "b=1\n",
    "for i in range(n):\n",
    "    print(a)\n",
    "    a=b\n",
    "    b=a+b"
   ]
  },
  {
   "cell_type": "code",
   "execution_count": 98,
   "id": "7a84969e-4753-4c43-ab17-a67672662775",
   "metadata": {},
   "outputs": [
    {
     "name": "stdin",
     "output_type": "stream",
     "text": [
      "Enter the terms: 8\n"
     ]
    },
    {
     "name": "stdout",
     "output_type": "stream",
     "text": [
      "0\n",
      "1\n",
      "2\n",
      "4\n",
      "8\n",
      "16\n",
      "32\n",
      "64\n"
     ]
    }
   ],
   "source": [
    "n=int(input(\"Enter the terms:\"))\n",
    "a=0\n",
    "b=1\n",
    "i=1\n",
    "\n",
    "while i<=n:\n",
    "    print(a)\n",
    "    a=b\n",
    "    b=a+b\n",
    "    i=i+1"
   ]
  },
  {
   "cell_type": "markdown",
   "id": "d23d5d37-2bf4-4e1f-9e6c-99fc35a626c0",
   "metadata": {},
   "source": [
    "1) write a python program to identify given number is a prime or not"
   ]
  },
  {
   "cell_type": "code",
   "execution_count": 135,
   "id": "98224ac1-5492-4f63-9cc8-ffa3b63a681e",
   "metadata": {},
   "outputs": [
    {
     "name": "stdin",
     "output_type": "stream",
     "text": [
      "Enter any number 6\n"
     ]
    },
    {
     "name": "stdout",
     "output_type": "stream",
     "text": [
      "6 is not a prime number\n"
     ]
    }
   ],
   "source": [
    "a = int(input(\"Enter any number\"))\n",
    "\n",
    "if a > 1:\n",
    "    for i in range(2, a):\n",
    "        if a % i == 0:\n",
    "            print(f\"{a} is not a prime number\")\n",
    "            break\n",
    "    else:\n",
    "        print(f\"{a} is a prime number\")\n",
    "else:\n",
    "    print(f\"{a} is not a prime number\")\n"
   ]
  },
  {
   "cell_type": "code",
   "execution_count": null,
   "id": "000484e6-621b-4205-af68-15ff0026a52e",
   "metadata": {},
   "outputs": [],
   "source": []
  }
 ],
 "metadata": {
  "kernelspec": {
   "display_name": "Python 3 (ipykernel)",
   "language": "python",
   "name": "python3"
  },
  "language_info": {
   "codemirror_mode": {
    "name": "ipython",
    "version": 3
   },
   "file_extension": ".py",
   "mimetype": "text/x-python",
   "name": "python",
   "nbconvert_exporter": "python",
   "pygments_lexer": "ipython3",
   "version": "3.12.4"
  }
 },
 "nbformat": 4,
 "nbformat_minor": 5
}
