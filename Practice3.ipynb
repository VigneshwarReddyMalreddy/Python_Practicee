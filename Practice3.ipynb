{
 "cells": [
  {
   "cell_type": "markdown",
   "id": "624b6d03-00b1-41ee-aa87-233e539bfd31",
   "metadata": {},
   "source": [
    "Restaurant"
   ]
  },
  {
   "cell_type": "code",
   "execution_count": 6,
   "id": "a2512a9f-c76c-45f3-a9ec-e9fd30d5e34b",
   "metadata": {},
   "outputs": [],
   "source": [
    "def restaurant():\n",
    "    veg=[\"panner butter masala\",\"kaju panner\",\"palak panner\",\"dal tadka\",\"veg biriyani\"]\n",
    "    non_veg=[\"chicken biryani\",\"chicken fry\",\"mutton biryani\",\"chilli chicken\",\"fish fry\"]\n",
    "\n",
    "    print(\"Welcome to Vamsi Restaurant\")\n",
    "    print(\"veg Menu:\")\n",
    "    for i in veg:\n",
    "        print(f\"veg items are {i}\")\n",
    "    print(\"non_veg Menu\")\n",
    "    for i in non_veg:\n",
    "        print(f\"non veg items are {i}\")\n",
    "\n",
    "    i=input(\"please specify the items you want:\")\n",
    "\n",
    "    if i in veg:\n",
    "        print(f\"your veg item {i} is ready. wait for 10mins to receive your order\")\n",
    "    elif i in non_veg:\n",
    "        print(f\"your non_veg item {i} is ready. wait for 10mins to receive your order\")\n",
    "    else:\n",
    "        print(\"we are not serving this food right now\")"
   ]
  },
  {
   "cell_type": "code",
   "execution_count": 8,
   "id": "2648f1e7-f3cf-4929-815d-eb01ef6c6977",
   "metadata": {},
   "outputs": [
    {
     "name": "stdout",
     "output_type": "stream",
     "text": [
      "Welcome to Vamsi Restaurant\n",
      "veg Menu:\n",
      "veg items are panner butter masala\n",
      "veg items are kaju panner\n",
      "veg items are palak panner\n",
      "veg items are dal tadka\n",
      "veg items are veg biriyani\n",
      "non_veg Menu\n",
      "non veg items are chicken biryani\n",
      "non veg items are chicken fry\n",
      "non veg items are mutton biryani\n",
      "non veg items are chilli chicken\n",
      "non veg items are fish fry\n"
     ]
    },
    {
     "name": "stdin",
     "output_type": "stream",
     "text": [
      "please specify the items you want: chicken biryani\n"
     ]
    },
    {
     "name": "stdout",
     "output_type": "stream",
     "text": [
      "your non_veg item chicken biryani is ready. wait for 10mins to receive your order\n"
     ]
    }
   ],
   "source": [
    "restaurant()"
   ]
  },
  {
   "cell_type": "markdown",
   "id": "49785b12-6d30-4c04-a724-28d8d61cfe5c",
   "metadata": {},
   "source": [
    "1) write a python program to check prime number or not using functions"
   ]
  },
  {
   "cell_type": "code",
   "execution_count": 11,
   "id": "7a3da15e-5702-42e4-9a4f-9b2f8b4d03f5",
   "metadata": {},
   "outputs": [],
   "source": [
    "def prime():\n",
    "    a=int(input(\"Enter a Number\"))\n",
    "    if a>1:\n",
    "        for i in range (2,a):\n",
    "            if a%i==0:\n",
    "                print(f\"{a} is a not prime number\")\n",
    "                break\n",
    "            else:\n",
    "                print(f\"{a} is a prime number\")\n",
    "    else:\n",
    "        print(f\"{a} is not a prime number\")"
   ]
  },
  {
   "cell_type": "code",
   "execution_count": 13,
   "id": "c0825050-20f4-4916-b850-2f33c149fab9",
   "metadata": {},
   "outputs": [
    {
     "name": "stdin",
     "output_type": "stream",
     "text": [
      "Enter a Number 6\n"
     ]
    },
    {
     "name": "stdout",
     "output_type": "stream",
     "text": [
      "6 is a not prime number\n"
     ]
    }
   ],
   "source": [
    "prime()\n"
   ]
  },
  {
   "cell_type": "markdown",
   "id": "0b33ee33-b67a-4e48-878e-d29a8f8fa6ca",
   "metadata": {},
   "source": [
    "2) write a python program to print thr numbers in pattern \n",
    "\n",
    "- 1 1 1 1 1\n",
    " - 2 2 2 2\n",
    " - 3 3 3\n",
    " - 4 4\n",
    " - 5"
   ]
  },
  {
   "cell_type": "code",
   "execution_count": 24,
   "id": "8f392cd0-669a-49d9-85f5-18b8b0b7c245",
   "metadata": {},
   "outputs": [
    {
     "name": "stdout",
     "output_type": "stream",
     "text": [
      "1 1 1 1 1 \n",
      "2 2 2 2 \n",
      "3 3 3 \n",
      "4 4 \n",
      "5 \n"
     ]
    }
   ],
   "source": [
    "for i in range(1,6):\n",
    "    for j in range (6-i):\n",
    "        print(i,end=' ')\n",
    "    print()"
   ]
  },
  {
   "cell_type": "markdown",
   "id": "de1ca20d-da2e-48b1-9813-2cb2f71fe4fc",
   "metadata": {},
   "source": [
    "3) write a python program to convert celsisus to fahrenheit"
   ]
  },
  {
   "cell_type": "code",
   "execution_count": 27,
   "id": "3ef9f6a2-ccb4-4c6d-a94c-fd744162cd29",
   "metadata": {},
   "outputs": [
    {
     "name": "stdin",
     "output_type": "stream",
     "text": [
      "Enter the value in celisus:  39.8\n"
     ]
    },
    {
     "name": "stdout",
     "output_type": "stream",
     "text": [
      "103.64\n"
     ]
    }
   ],
   "source": [
    "cel=float(input(\"Enter the value in celisus: \"))\n",
    "fah=(cel*(9/5))+32 #formula to convert celsisus to fahrenheit\n",
    "print(fah)"
   ]
  },
  {
   "cell_type": "markdown",
   "id": "6fd875f1-876a-441a-ba2f-e51485a7912b",
   "metadata": {},
   "source": [
    "4) Write a python program to calculate simple interst"
   ]
  },
  {
   "cell_type": "code",
   "execution_count": 43,
   "id": "081694b2-6d99-4884-8357-20714d676f44",
   "metadata": {},
   "outputs": [],
   "source": [
    "def SI():\n",
    "    principle=float(input(\"Enter your principle amount\"))\n",
    "    rate=float(input(\"Enter your Rate of interest\"))\n",
    "    time=float(input(\"Enter your time peroid in years\"))\n",
    "    simple_interst=(principle*rate*time)/100\n",
    "    print(simple_interst)"
   ]
  },
  {
   "cell_type": "code",
   "execution_count": 45,
   "id": "67017a24-970e-4f3e-bd4e-fbde2b79bba2",
   "metadata": {},
   "outputs": [
    {
     "name": "stdin",
     "output_type": "stream",
     "text": [
      "Enter your principle amount 300000\n",
      "Enter your Rate of interest 12.5\n",
      "Enter your time peroid in years 3.5\n"
     ]
    },
    {
     "name": "stdout",
     "output_type": "stream",
     "text": [
      "131250.0\n"
     ]
    }
   ],
   "source": [
    "SI()"
   ]
  },
  {
   "cell_type": "markdown",
   "id": "111d976b-63ae-4d37-b51f-992f3524f496",
   "metadata": {},
   "source": [
    "5) write a python program to to convert a int to decimal using functions"
   ]
  },
  {
   "cell_type": "code",
   "execution_count": 35,
   "id": "c2a774b6-7027-4063-99b8-2f71d2cde7bb",
   "metadata": {},
   "outputs": [
    {
     "name": "stdin",
     "output_type": "stream",
     "text": [
      "Enter a integer: -2232\n"
     ]
    },
    {
     "name": "stdout",
     "output_type": "stream",
     "text": [
      "-2232.0\n"
     ]
    }
   ],
   "source": [
    "def int_to_decimal(integer):\n",
    "    decimal=float(integer)\n",
    "    print(decimal)\n",
    "\n",
    "number=int(input(\"Enter a integer:\"))\n",
    "result= int_to_decimal(number) "
   ]
  },
  {
   "cell_type": "markdown",
   "id": "cc62942f-96e4-40df-8199-621b2289b08e",
   "metadata": {},
   "source": [
    "6) Write a python program to check given character is digit or not"
   ]
  },
  {
   "cell_type": "code",
   "execution_count": 1,
   "id": "9a6ec65a-ba06-41e1-92ee-43f3a6852b3b",
   "metadata": {},
   "outputs": [
    {
     "name": "stdin",
     "output_type": "stream",
     "text": [
      "Enter a string 121jdkcflasd@#\n"
     ]
    },
    {
     "name": "stdout",
     "output_type": "stream",
     "text": [
      "1 is a digit\n",
      "2 is a digit\n",
      "1 is a digit\n",
      "j is a alphabet\n",
      "d is a alphabet\n",
      "k is a alphabet\n",
      "c is a alphabet\n",
      "f is a alphabet\n",
      "l is a alphabet\n",
      "a is a alphabet\n",
      "s is a alphabet\n",
      "d is a alphabet\n",
      "@ is a special character\n",
      "# is a special character\n"
     ]
    }
   ],
   "source": [
    "char=input(\"Enter a string\")\n",
    "for i in char:\n",
    "    if i.isdigit():\n",
    "        print(f\"{i} is a digit\")\n",
    "    elif i.isalpha():\n",
    "        print(f\"{i} is a alphabet\")\n",
    "    else:\n",
    "        print(f\"{i} is a special character\")"
   ]
  },
  {
   "cell_type": "markdown",
   "id": "5ce73ea0-f86a-405d-b09e-b1c4158d2718",
   "metadata": {},
   "source": [
    "7) write a python program to check given number is amstrong or not"
   ]
  },
  {
   "cell_type": "code",
   "execution_count": 12,
   "id": "af951768-be94-4992-b76f-ea096b68e225",
   "metadata": {},
   "outputs": [
    {
     "name": "stdin",
     "output_type": "stream",
     "text": [
      "Enter a number:  153\n"
     ]
    },
    {
     "name": "stdout",
     "output_type": "stream",
     "text": [
      "153 is an Armstrong number.\n"
     ]
    }
   ],
   "source": [
    "def armstrong(number):\n",
    "    digits = len(str(number))\n",
    "    sum_of_powers = sum(int(digit) ** digits for digit in str(number))\n",
    "    return sum_of_powers == number\n",
    "\n",
    "num = int(input(\"Enter a number: \"))\n",
    "if armstrong(num):\n",
    "    print(f\"{num} is an Armstrong number.\")\n",
    "else:\n",
    "    print(f\"{num} is not an Armstrong number.\")"
   ]
  },
  {
   "cell_type": "markdown",
   "id": "63caae31-592f-4447-ba7e-2db94054e880",
   "metadata": {},
   "source": [
    "8) write a python program to check non-repeating characters in string using loop statements"
   ]
  },
  {
   "cell_type": "code",
   "execution_count": 51,
   "id": "cda790a8-e48b-43e5-b804-95a48d3789ee",
   "metadata": {},
   "outputs": [
    {
     "name": "stdin",
     "output_type": "stream",
     "text": [
      "Enter a string google\n"
     ]
    },
    {
     "name": "stdout",
     "output_type": "stream",
     "text": [
      "['g', 'o', 'o', 'g', 'l', 'e']\n",
      "['g', 'e', 'o', 'l']\n"
     ]
    }
   ],
   "source": [
    "a = input(\"Enter a string\")\n",
    "b=[]\n",
    "for i in a:\n",
    "    b.append(i)\n",
    "print(b)\n",
    "b=list(set(b))\n",
    "print(b)"
   ]
  },
  {
   "cell_type": "markdown",
   "id": "e57db9c0-2dc0-495e-8397-da83563a1d62",
   "metadata": {},
   "source": [
    "9) write a python program to find GCD(greater common divisor)"
   ]
  },
  {
   "cell_type": "code",
   "execution_count": 38,
   "id": "de5fd2b9-7071-447c-b452-54b1ababc2c2",
   "metadata": {},
   "outputs": [
    {
     "name": "stdin",
     "output_type": "stream",
     "text": [
      "Enter a value of first number: 34\n",
      "Enter a value of second number: 2\n"
     ]
    },
    {
     "name": "stdout",
     "output_type": "stream",
     "text": [
      " GCD is : 2\n"
     ]
    }
   ],
   "source": [
    "num1=int(input(\"Enter a value of first number:\"))\n",
    "num2=int(input(\"Enter a value of second number:\"))\n",
    "while num2 !=0:\n",
    "    num1,num2=num2,num1%num2\n",
    "print(f\" GCD is : {num1}\")"
   ]
  },
  {
   "cell_type": "markdown",
   "id": "02e9baac-55e2-4a2b-8ed5-cc4d411eabd3",
   "metadata": {},
   "source": [
    "10) write a python program to remove duplicates from the list"
   ]
  },
  {
   "cell_type": "code",
   "execution_count": 47,
   "id": "28e4ad3a-0e4d-423a-8d57-39897436b174",
   "metadata": {},
   "outputs": [
    {
     "name": "stdout",
     "output_type": "stream",
     "text": [
      "list after removing duplicates: [1, 2, 3, 4, 6, 7]\n"
     ]
    }
   ],
   "source": [
    "list1=[1,2,3,4,2,2,4,1,3,6,7]\n",
    "list1=list(set(list1))\n",
    "print(f\"list after removing duplicates: {list1}\")"
   ]
  },
  {
   "cell_type": "markdown",
   "id": "409ea0bb-e849-4e94-af76-3bf8bbb3c06e",
   "metadata": {},
   "source": [
    "11) write a python program to replace the string space with a given character"
   ]
  },
  {
   "cell_type": "code",
   "execution_count": 7,
   "id": "646bcf1b-2ac2-4639-8bb0-0c7fa4743c27",
   "metadata": {},
   "outputs": [
    {
     "name": "stdin",
     "output_type": "stream",
     "text": [
      "Enter a string Welcome to Data Science Class\n",
      "Enter a charater to replace spaces: @\n"
     ]
    },
    {
     "name": "stdout",
     "output_type": "stream",
     "text": [
      "string after replacement: Welcome@to@Data@Science@Class \n"
     ]
    }
   ],
   "source": [
    "a=input(\"Enter a string\")\n",
    "b=input(\"Enter a charater to replace spaces:\")\n",
    "c=a.replace(\" \",b)\n",
    "print(f\"string after replacement: {c} \")"
   ]
  },
  {
   "cell_type": "markdown",
   "id": "a623dc6c-3467-4825-8be2-a6fc3c7a7d22",
   "metadata": {},
   "source": [
    "12) write a python program to swap two numbers without using thrid variable"
   ]
  },
  {
   "cell_type": "code",
   "execution_count": 21,
   "id": "331390d8-d68e-4383-b7fc-c8522ca0fb82",
   "metadata": {},
   "outputs": [
    {
     "name": "stdin",
     "output_type": "stream",
     "text": [
      "Enter the value of A 34\n",
      "Enter the value of B 69\n"
     ]
    },
    {
     "name": "stdout",
     "output_type": "stream",
     "text": [
      "After Swapping a = 69 b = 34\n"
     ]
    }
   ],
   "source": [
    "a=int(input(\"Enter the value of A\"))\n",
    "b=int(input(\"Enter the value of B\"))\n",
    "\n",
    "a,b=b,a\n",
    "print(f\"After Swapping a = {a} and b = {b}\")"
   ]
  },
  {
   "cell_type": "markdown",
   "id": "e8640b2a-6c0d-4225-aa3e-7fab0a7485c4",
   "metadata": {},
   "source": [
    "13) write a python program to add two integers without using any arthmetic operators"
   ]
  },
  {
   "cell_type": "code",
   "execution_count": 10,
   "id": "d6ce4e44-56b7-4dc6-ba72-07c3696b7764",
   "metadata": {},
   "outputs": [
    {
     "name": "stdin",
     "output_type": "stream",
     "text": [
      "Enter the value of number1 12\n",
      "Enter the value of number2 18\n"
     ]
    },
    {
     "name": "stdout",
     "output_type": "stream",
     "text": [
      "Sum of two numbers is: 30\n"
     ]
    }
   ],
   "source": [
    "num1=int(input(\"Enter the value of number1\"))\n",
    "num2=int(input(\"Enter the value of number2\"))\n",
    "num=sum([num1,num2])\n",
    "print(f\"Sum of two numbers is: {num}\")"
   ]
  },
  {
   "cell_type": "code",
   "execution_count": null,
   "id": "266ab489-eccd-4bc0-9cea-e3df34367a13",
   "metadata": {},
   "outputs": [],
   "source": []
  }
 ],
 "metadata": {
  "kernelspec": {
   "display_name": "Python 3 (ipykernel)",
   "language": "python",
   "name": "python3"
  },
  "language_info": {
   "codemirror_mode": {
    "name": "ipython",
    "version": 3
   },
   "file_extension": ".py",
   "mimetype": "text/x-python",
   "name": "python",
   "nbconvert_exporter": "python",
   "pygments_lexer": "ipython3",
   "version": "3.12.4"
  }
 },
 "nbformat": 4,
 "nbformat_minor": 5
}
