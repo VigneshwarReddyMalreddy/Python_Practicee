{
 "cells": [
  {
   "cell_type": "markdown",
   "id": "ebcb98d2-379b-46d1-a253-2bfdafa8cacd",
   "metadata": {},
   "source": [
    "1) What is Python and why is it popular?"
   ]
  },
  {
   "cell_type": "markdown",
   "id": "5ac2f7c5-352f-4708-95d3-4bbebd40a3c9",
   "metadata": {},
   "source": [
    "- Python is a high- level and interpreted programming language\n",
    "- Python is well know for its simplicity and readbility\n",
    "- Python is a good choice for benginner and experienced programmers\n",
    "- Python is indentation language\n",
    "- Python is popular because it is a open-source,easy to learn and simple syntax"
   ]
  },
  {
   "cell_type": "markdown",
   "id": "bc9e6695-a061-42f6-87ac-0974b28ac978",
   "metadata": {},
   "source": [
    "2) What is an IDE and name a few popular Python IDEs?"
   ]
  },
  {
   "cell_type": "markdown",
   "id": "aaf37d03-22f7-46f1-a8fa-e0221abfdedd",
   "metadata": {},
   "source": [
    "- IDE stands for Intergrated Development Environment\n",
    "- IDE is a toolwhere we used to write python code and run the code\n",
    "- Jupiter Notebook, VS code, Google collab,Pycharm are the some popular pytohn IDEs"
   ]
  },
  {
   "cell_type": "markdown",
   "id": "75849c78-28d0-45e6-b332-e690a9719c0b",
   "metadata": {},
   "source": [
    "3) What are the rules for naming variables in Python?"
   ]
  },
  {
   "cell_type": "markdown",
   "id": "527054dc-cfc5-4882-b1b4-4d89b4891330",
   "metadata": {},
   "source": [
    "- Variable must consists of ALPHA NUMRIC characters(a-z,A-Z)\n",
    "- Variables can starts with underscore(_)\n",
    "- variables are case-sensitive(python,PYTHON,Python)\n",
    "- we cannot use reserved words(keywords) as a variables\n",
    "- variables cannot start with numbers"
   ]
  },
  {
   "cell_type": "markdown",
   "id": "72bb01bf-e440-4b43-a841-9d99b5a0052f",
   "metadata": {},
   "source": [
    "4) How do you assign multiple values to multiple variables in a single line?"
   ]
  },
  {
   "cell_type": "code",
   "execution_count": 9,
   "id": "99c14f11-01ea-41b3-9611-7b2d868400ec",
   "metadata": {},
   "outputs": [
    {
     "name": "stdout",
     "output_type": "stream",
     "text": [
      "1 2.12 3.14 error\n"
     ]
    }
   ],
   "source": [
    "# we can assign multiple values to multiple variavles in single line \n",
    "python,java,c,r=(1,2.12,3.14,\"error\")\n",
    "print(python,java,c,r)"
   ]
  },
  {
   "cell_type": "markdown",
   "id": "42f4c58b-4574-43f0-a549-79fab5aa0233",
   "metadata": {},
   "source": [
    "5) Can you use Python keywords as variable names? Why or why not?"
   ]
  },
  {
   "cell_type": "markdown",
   "id": "25278e82-fbe8-4201-85f9-014dd4e54fe5",
   "metadata": {},
   "source": [
    "- We can not use Python Keywords as variable names\n",
    "- keywords are reserved words in python\n",
    "- In python we use keywords to define th syntax of a code where that are used to commad the code\n",
    "- we have 35 keywords in python where we can not use those as keywords"
   ]
  },
  {
   "cell_type": "markdown",
   "id": "09acaeeb-9adf-4536-a847-4268f106c04f",
   "metadata": {},
   "source": [
    "6) Why are comments important in programming?"
   ]
  },
  {
   "cell_type": "markdown",
   "id": "67b08dd5-8c68-442d-907e-fb33a0351b8a",
   "metadata": {},
   "source": [
    "- In programming languages comment are used to determine the purpose of code which can given by the prograammer\n",
    "- comment can help the new user or programmer to understand the code and purpose of the statement\n",
    "- In Python the comments are represented by hash \"#\"\n",
    "- comment are reprsented by different symbols in differnet languages\n"
   ]
  },
  {
   "cell_type": "markdown",
   "id": "032e2898-a27c-46b4-a297-97e70f96cc20",
   "metadata": {},
   "source": [
    "7) What are the basic data types in Python?"
   ]
  },
  {
   "cell_type": "markdown",
   "id": "fe077e5c-5aa5-4e24-99b4-3a9bf31e103a",
   "metadata": {},
   "source": [
    "- Python the basic data types are classified into 4 types\n",
    "- They also called as primitive data types\n",
    "- Basic data types are integer,float,complex,boolean"
   ]
  },
  {
   "cell_type": "markdown",
   "id": "bd221c9d-0d23-4713-862a-f037ab85e24b",
   "metadata": {},
   "source": [
    "8) How do you convert a string to an integer in Python?"
   ]
  },
  {
   "cell_type": "code",
   "execution_count": 28,
   "id": "4b4bda91-6ef8-43ed-9441-28b8cd58f2e3",
   "metadata": {},
   "outputs": [
    {
     "name": "stdout",
     "output_type": "stream",
     "text": [
      "<class 'str'>\n",
      "<class 'int'>\n"
     ]
    }
   ],
   "source": [
    "a='15'\n",
    "print(type(a))\n",
    "b=int(a)\n",
    "print(type(b))"
   ]
  },
  {
   "cell_type": "markdown",
   "id": "66d392be-1c08-424a-aba9-b7e0c54fcc10",
   "metadata": {},
   "source": [
    "9) What is the difference between int and float?"
   ]
  },
  {
   "cell_type": "markdown",
   "id": "c245a6d3-e2db-4dd0-a78e-8c26c62b1119",
   "metadata": {},
   "source": [
    "- integer is used to stoe only numbers without any decimals\n",
    "- integer can be positive, zero and negitive numbers\n",
    "- Example: 10,0,-15\n",
    "- float values are decimal values\n",
    "- float values can be postive and negitive\n",
    "- exampele: -11.2,3.14,2.567"
   ]
  },
  {
   "cell_type": "markdown",
   "id": "2ff97de3-cd7f-4332-923d-f28081960bd2",
   "metadata": {},
   "source": [
    "10) How do you check the data type of a variable?"
   ]
  },
  {
   "cell_type": "markdown",
   "id": "8730764a-b5b7-48be-9b71-7cd761ff8343",
   "metadata": {},
   "source": [
    "by using \"type()\" command we can check data types of a variable"
   ]
  },
  {
   "cell_type": "markdown",
   "id": "8bb69618-55b1-4ac7-8b7e-8dab98b00dec",
   "metadata": {},
   "source": [
    "11) How do you add an element to a list?"
   ]
  },
  {
   "cell_type": "markdown",
   "id": "af4356ff-81d3-4c64-857f-5b70129e83f7",
   "metadata": {},
   "source": [
    "- By using list.append() and list.extend() we can add elements to the list"
   ]
  },
  {
   "cell_type": "markdown",
   "id": "b086b9ef-eeea-418d-9dc4-e658e28593d3",
   "metadata": {},
   "source": [
    "12) How do you create a tuple with one element?"
   ]
  },
  {
   "cell_type": "code",
   "execution_count": 36,
   "id": "398348ab-3d97-4eee-a699-d808cc4ebdec",
   "metadata": {},
   "outputs": [
    {
     "name": "stdout",
     "output_type": "stream",
     "text": [
      "<class 'tuple'>\n"
     ]
    }
   ],
   "source": [
    "tuple=(123,)\n",
    "print(type(tuple))"
   ]
  },
  {
   "cell_type": "markdown",
   "id": "0192470c-2112-4d0d-88a5-dd03fb072f6b",
   "metadata": {},
   "source": [
    "13) How do you access a value in a dictionary using a key?"
   ]
  },
  {
   "cell_type": "markdown",
   "id": "f519ed53-7e23-4561-a55a-f517e271fc38",
   "metadata": {},
   "source": [
    "- By using key() method we can able to acces a value ina dictionary"
   ]
  },
  {
   "cell_type": "markdown",
   "id": "dead9499-efb8-4125-922e-e36adc94c6a7",
   "metadata": {},
   "source": [
    "14) How do you access elements in a list?"
   ]
  },
  {
   "cell_type": "code",
   "execution_count": 41,
   "id": "0bca964f-74de-4f5c-a91d-a25ccf145477",
   "metadata": {},
   "outputs": [
    {
     "name": "stdout",
     "output_type": "stream",
     "text": [
      "1\n"
     ]
    }
   ],
   "source": [
    "#By using index,slicng we can access elements in the list\n",
    "list=[1,2,3,4]\n",
    "print(list[0])"
   ]
  },
  {
   "cell_type": "markdown",
   "id": "349f3b66-7393-49c4-b4b3-969e2ed7540d",
   "metadata": {},
   "source": [
    "15) How do you access a character in a string?"
   ]
  },
  {
   "cell_type": "code",
   "execution_count": 48,
   "id": "fe6ea68f-eeba-4ff5-9930-f86fb6b24203",
   "metadata": {},
   "outputs": [
    {
     "name": "stdout",
     "output_type": "stream",
     "text": [
      "hello world\n",
      "<class 'str'>\n"
     ]
    }
   ],
   "source": [
    "string= \"hello world\"\n",
    "print(string)\n",
    "print(type(string))"
   ]
  },
  {
   "cell_type": "markdown",
   "id": "a743b2ea-efdb-4d9a-9117-99d5d8382b75",
   "metadata": {},
   "source": [
    "16) How do you format strings in Python?"
   ]
  },
  {
   "cell_type": "code",
   "execution_count": 53,
   "id": "de4be05d-4fa1-498c-b2ad-021f42252781",
   "metadata": {},
   "outputs": [
    {
     "name": "stdout",
     "output_type": "stream",
     "text": [
      "hello world\n",
      "<class 'str'>\n"
     ]
    }
   ],
   "source": [
    "# In python strings are formatted by single,double and triple quotes'',\"\",\"\"\"\"\"\"\n",
    "string= 'hello world'\n",
    "print(string)\n",
    "print(type(string))"
   ]
  },
  {
   "cell_type": "markdown",
   "id": "e2f26c28-99f6-492d-a3de-25e8a962ef73",
   "metadata": {},
   "source": [
    "17) What is a tuple and how is it different from a list?"
   ]
  },
  {
   "cell_type": "markdown",
   "id": "e500bd8d-0109-4ce0-933b-41a4888cf7c5",
   "metadata": {},
   "source": [
    "- tuples are represnted by () and seprated by (,) commas\n",
    "- tuples are immutable\n",
    "- where list are mutable"
   ]
  },
  {
   "cell_type": "markdown",
   "id": "cef56f7e-43fa-4233-b990-a89c27418caf",
   "metadata": {},
   "source": [
    "18) How do you concatenate two tuples?"
   ]
  },
  {
   "cell_type": "code",
   "execution_count": 58,
   "id": "df15b7d9-4a16-4c26-9c51-fb3fe6a5c00f",
   "metadata": {},
   "outputs": [
    {
     "name": "stdout",
     "output_type": "stream",
     "text": [
      "(1, 2, 3, 4, 5)\n"
     ]
    }
   ],
   "source": [
    "tup1=(1,2,3)\n",
    "tup2=(4,5)\n",
    "con=(tup1+tup2)\n",
    "print(con)"
   ]
  },
  {
   "cell_type": "markdown",
   "id": "6d850e76-c4f0-457c-b8f4-d5176382bad8",
   "metadata": {},
   "source": [
    "19) How do you access values in a dictionary?'"
   ]
  },
  {
   "cell_type": "code",
   "execution_count": 65,
   "id": "6f46dc2f-b9ec-47da-be80-3d6dcfd654a5",
   "metadata": {},
   "outputs": [
    {
     "name": "stdout",
     "output_type": "stream",
     "text": [
      "banana\n"
     ]
    }
   ],
   "source": [
    "#by using [] and get method we can access the dictinory\n",
    "dic={\"a\":\"apple\",\"b\":\"banana\"}\n",
    "a=dic[\"b\"]\n",
    "print(a)"
   ]
  },
  {
   "cell_type": "markdown",
   "id": "70fa0e1e-3ff1-4179-a7c6-ea28ca601926",
   "metadata": {},
   "source": [
    "20) How do you add a key-value pair to a dictionary?\n"
   ]
  },
  {
   "cell_type": "code",
   "execution_count": 68,
   "id": "0dbab8af-ad06-4da8-9049-d6397101b3bd",
   "metadata": {},
   "outputs": [
    {
     "name": "stdout",
     "output_type": "stream",
     "text": [
      "{'a': 'app', 'b': 'banana', 'apple': 'ann'}\n"
     ]
    }
   ],
   "source": [
    "dic={\"a\":\"apple\",\"b\":\"banana\"}\n",
    "dic[\"a\"]=\"app\"\n",
    "dic[\"apple\"]=\"ann\"\n",
    "print(dic)"
   ]
  },
  {
   "cell_type": "markdown",
   "id": "47c5dbd0-9116-40f2-a7fe-40aa70822670",
   "metadata": {},
   "source": [
    "21) How do you remove a key-value pair from a dictionary?"
   ]
  },
  {
   "cell_type": "code",
   "execution_count": 73,
   "id": "91caad71-e87f-4f58-8b3c-976df64ff51e",
   "metadata": {},
   "outputs": [
    {
     "name": "stdout",
     "output_type": "stream",
     "text": [
      "{'b': 'banana'}\n"
     ]
    }
   ],
   "source": [
    "dic={\"a\":\"apple\",\"b\":\"banana\"}\n",
    "del dic[\"a\"]\n",
    "print(dic)"
   ]
  },
  {
   "cell_type": "markdown",
   "id": "97bff285-68f8-4c9c-88e2-c19185fef8e4",
   "metadata": {},
   "source": [
    "22) How do you add an element to a set?"
   ]
  },
  {
   "cell_type": "code",
   "execution_count": 76,
   "id": "0fc862b1-8c61-4109-b75a-2cb9ec56fc66",
   "metadata": {},
   "outputs": [
    {
     "name": "stdout",
     "output_type": "stream",
     "text": [
      "{1, 2, 3, 4, 5}\n"
     ]
    }
   ],
   "source": [
    "a={1,2,3,4}\n",
    "a.add(5)\n",
    "print(a)"
   ]
  },
  {
   "cell_type": "markdown",
   "id": "381ad91c-03a2-467a-ae4d-6fefd96dda9d",
   "metadata": {},
   "source": [
    "23) How do you remove an element from a set?"
   ]
  },
  {
   "cell_type": "code",
   "execution_count": 81,
   "id": "d6b282e7-1211-4330-b28e-4b845540913e",
   "metadata": {},
   "outputs": [
    {
     "name": "stdout",
     "output_type": "stream",
     "text": [
      "{1, 2, 3, 4}\n"
     ]
    }
   ],
   "source": [
    "a={1,2,3,4}\n",
    "a.discard(5)\n",
    "print(a)"
   ]
  },
  {
   "cell_type": "markdown",
   "id": "887c65b8-84cb-4793-9cca-d9ea6c4196f8",
   "metadata": {},
   "source": [
    "24) What are the common set operations in Python?"
   ]
  },
  {
   "cell_type": "markdown",
   "id": "66abf6b0-a737-493a-b8c4-9283909f894b",
   "metadata": {},
   "source": [
    "- "
   ]
  },
  {
   "cell_type": "markdown",
   "id": "811c814a-0621-4277-abc2-3acd345b74fd",
   "metadata": {},
   "source": [
    "25) Write a Python program to find the index of an element in a tuple?"
   ]
  },
  {
   "cell_type": "code",
   "execution_count": 90,
   "id": "42822189-408a-47f6-bc4b-ac86136a5b46",
   "metadata": {},
   "outputs": [
    {
     "name": "stdout",
     "output_type": "stream",
     "text": [
      "2\n"
     ]
    }
   ],
   "source": [
    "tup=(1,3.14,\"apple\",\"banana\")\n",
    "print(tup.index(\"apple\"))"
   ]
  },
  {
   "cell_type": "code",
   "execution_count": null,
   "id": "02168c65-bed9-4f14-9e77-21fe1ed72cf0",
   "metadata": {},
   "outputs": [],
   "source": []
  }
 ],
 "metadata": {
  "kernelspec": {
   "display_name": "Python 3 (ipykernel)",
   "language": "python",
   "name": "python3"
  },
  "language_info": {
   "codemirror_mode": {
    "name": "ipython",
    "version": 3
   },
   "file_extension": ".py",
   "mimetype": "text/x-python",
   "name": "python",
   "nbconvert_exporter": "python",
   "pygments_lexer": "ipython3",
   "version": "3.12.4"
  }
 },
 "nbformat": 4,
 "nbformat_minor": 5
}
